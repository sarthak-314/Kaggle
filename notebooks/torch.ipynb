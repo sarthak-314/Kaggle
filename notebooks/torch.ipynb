{
 "cells": [
  {
   "cell_type": "markdown",
   "metadata": {},
   "source": [
    "# 🔥 Torch \r\n",
    "\r\n",
    "Main notebook for running torch experiments and training torch models\r\n"
   ]
  },
  {
   "cell_type": "code",
   "execution_count": null,
   "metadata": {},
   "outputs": [],
   "source": [
    "# Autoreload extensions\r\n",
    "%load_ext autoreload\r\n",
    "%autoreload 2\r\n",
    "\r\n",
    "# Import the code \r\n",
    "import src \r\n",
    "\r\n",
    "# Display all \r\n",
    "from IPython.core.interactiveshell import InteractiveShell\r\n",
    "InteractiveShell.ast_node_interactivity = \"all\""
   ]
  },
  {
   "cell_type": "code",
   "execution_count": null,
   "metadata": {},
   "outputs": [],
   "source": [
    "# Build the data module \r\n"
   ]
  }
 ],
 "metadata": {
  "interpreter": {
   "hash": "0422f3b6ec0d37bdb40178519f21f1ab60049f7d1f257e760430ed9594ede4d9"
  },
  "kernelspec": {
   "display_name": "Python 3.8.10 64-bit ('kaggle': conda)",
   "name": "python3"
  },
  "language_info": {
   "name": "python",
   "version": ""
  },
  "orig_nbformat": 4
 },
 "nbformat": 4,
 "nbformat_minor": 2
}