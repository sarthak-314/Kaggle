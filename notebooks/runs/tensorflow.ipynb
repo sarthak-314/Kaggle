{
 "cells": [
  {
   "cell_type": "markdown",
   "source": [
    "# Tensorflow Run Notebook\r\n",
    "Run a tensorflow experiment / train a model"
   ],
   "metadata": {}
  },
  {
   "cell_type": "code",
   "execution_count": 1,
   "source": [
    "startup_file = \"C:\\\\Users\\\\sarth\\\\Desktop\\\\kaggle-v2\\\\src\\\\startup.py\"\r\n",
    "%run $startup_file\r\n",
    "\r\n",
    "import src\r\n"
   ],
   "outputs": [],
   "metadata": {}
  },
  {
   "cell_type": "code",
   "execution_count": 3,
   "source": [
    "# Notebook Specific Imports\r\n",
    "import tensorflow as tf \r\n",
    "\r\n",
    "from src.flow.utils import (\r\n",
    "    get_gcs_path, \r\n",
    ")\r\n",
    "import src.utils\r\n",
    "\r\n",
    "COMP_NAME = src.utils.COMP_NAME\r\n",
    "GCS_DS_PATH = get_gcs_path(COMP_NAME)"
   ],
   "outputs": [
    {
     "output_type": "execute_result",
     "data": {
      "text/plain": [
       "   Unnamed: 0  Unnamed: 0.1  Unnamed: 0.1.1        img_id  \\\n",
       "0           0             0            2550  61d88b0d4fae   \n",
       "\n",
       "                                               boxes  label      study_id  \\\n",
       "0  [{'x': 711.44484, 'y': 389.13741, 'width': 128...      1  55178967f39d   \n",
       "\n",
       "   Negative for Pneumonia  Typical Appearance  Indeterminate Appearance  \\\n",
       "0                       0                   1                         0   \n",
       "\n",
       "   Atypical Appearance    one_hot   stratify         group file_path  \n",
       "0                    0  [0 1 0 0]  [0 1 0 0]  55178967f39d       NaN  "
      ],
      "text/html": [
       "<div>\n",
       "<style scoped>\n",
       "    .dataframe tbody tr th:only-of-type {\n",
       "        vertical-align: middle;\n",
       "    }\n",
       "\n",
       "    .dataframe tbody tr th {\n",
       "        vertical-align: top;\n",
       "    }\n",
       "\n",
       "    .dataframe thead th {\n",
       "        text-align: right;\n",
       "    }\n",
       "</style>\n",
       "<table border=\"1\" class=\"dataframe\">\n",
       "  <thead>\n",
       "    <tr style=\"text-align: right;\">\n",
       "      <th></th>\n",
       "      <th>Unnamed: 0</th>\n",
       "      <th>Unnamed: 0.1</th>\n",
       "      <th>Unnamed: 0.1.1</th>\n",
       "      <th>img_id</th>\n",
       "      <th>boxes</th>\n",
       "      <th>label</th>\n",
       "      <th>study_id</th>\n",
       "      <th>Negative for Pneumonia</th>\n",
       "      <th>Typical Appearance</th>\n",
       "      <th>Indeterminate Appearance</th>\n",
       "      <th>Atypical Appearance</th>\n",
       "      <th>one_hot</th>\n",
       "      <th>stratify</th>\n",
       "      <th>group</th>\n",
       "      <th>file_path</th>\n",
       "    </tr>\n",
       "  </thead>\n",
       "  <tbody>\n",
       "    <tr>\n",
       "      <th>0</th>\n",
       "      <td>0</td>\n",
       "      <td>0</td>\n",
       "      <td>2550</td>\n",
       "      <td>61d88b0d4fae</td>\n",
       "      <td>[{'x': 711.44484, 'y': 389.13741, 'width': 128...</td>\n",
       "      <td>1</td>\n",
       "      <td>55178967f39d</td>\n",
       "      <td>0</td>\n",
       "      <td>1</td>\n",
       "      <td>0</td>\n",
       "      <td>0</td>\n",
       "      <td>[0 1 0 0]</td>\n",
       "      <td>[0 1 0 0]</td>\n",
       "      <td>55178967f39d</td>\n",
       "      <td>NaN</td>\n",
       "    </tr>\n",
       "  </tbody>\n",
       "</table>\n",
       "</div>"
      ]
     },
     "metadata": {},
     "execution_count": 3
    }
   ],
   "metadata": {}
  },
  {
   "cell_type": "code",
   "execution_count": null,
   "source": [],
   "outputs": [],
   "metadata": {}
  }
 ],
 "metadata": {
  "orig_nbformat": 4,
  "language_info": {
   "name": "python"
  }
 },
 "nbformat": 4,
 "nbformat_minor": 2
}