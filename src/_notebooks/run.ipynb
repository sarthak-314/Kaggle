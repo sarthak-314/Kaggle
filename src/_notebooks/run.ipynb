{
 "metadata": {
  "language_info": {
   "codemirror_mode": {
    "name": "ipython",
    "version": 3
   },
   "file_extension": ".py",
   "mimetype": "text/x-python",
   "name": "python",
   "nbconvert_exporter": "python",
   "pygments_lexer": "ipython3",
   "version": "3.8.10"
  },
  "orig_nbformat": 4,
  "kernelspec": {
   "name": "python3",
   "display_name": "Python 3.8.5 64-bit ('kaggle': conda)"
  },
  "interpreter": {
   "hash": "0422f3b6ec0d37bdb40178519f21f1ab60049f7d1f257e760430ed9594ede4d9"
  }
 },
 "nbformat": 4,
 "nbformat_minor": 2,
 "cells": [
  {
   "source": [
    "# Run\n",
    "Main Kaggle notebook for experimenting and training models\n",
    "- load config \n",
    "- load data \n",
    "- run experiment / train model \n",
    "\n",
    "# Cheating Mode \n",
    "- load config through json/dict instead of .yaml \n",
    "- never submit a score. Only do cross validation\n",
    "- use tor always \n",
    "\n",
    "# Cheating \n",
    "- remove data folders and input the processed for one fold dataset for training\n",
    "- make cheating super scalable with 32 different accounts. \n",
    "- as there is no submitting, \n"
   ],
   "cell_type": "markdown",
   "metadata": {}
  },
  {
   "source": [
    "### Load Config"
   ],
   "cell_type": "markdown",
   "metadata": {}
  },
  {
   "cell_type": "code",
   "execution_count": 3,
   "metadata": {},
   "outputs": [
    {
     "output_type": "execute_result",
     "data": {
      "text/plain": [
       "'\\n'"
      ]
     },
     "metadata": {},
     "execution_count": 3
    }
   ],
   "source": [
    "\"\"\"\n",
    "Kaggle Notebook \n",
    "- autoreload extension\n",
    "- load the code as dataset into kaggle notebook\n",
    "- read the dataset(s) and build dataframes\n",
    "\n",
    "- copy the dataset into the current notebook and write code to replace python files with %%writefile in the code \n",
    "- load the aug config, torch (torch notebooks) and run the model / sweep\n",
    "- the source code is supposed to be unchangeable. for agile way, all the changable stuff goes in this notebook\n",
    "\n",
    "Experiment notebooks\n",
    "- call makedataset on kaggle if data is not inputted\n",
    "\n",
    "\n",
    "\n",
    "Searches \n",
    "1. Model architecture\n",
    "- what backbone, metric, final layer\n",
    "\n",
    "2. Run time\n",
    "- what optimizer, lr scheduler\n",
    "\n",
    "3. Data \n",
    "- what dataset performs the best \n",
    "\n",
    "4. Others \n",
    "num_workers, augmentations, lr, etc.\n",
    "Steps \n",
    "find the maximum data that can fit high batch size\n",
    "\n",
    "1. Freeze\n",
    "freeze the backbone and train the model on heavy augmentations for 10 epochs \n",
    "once done, you have a basline freeze model \n",
    "model architecture is fixed - run for all models - experiment freeze vs non freeze\n",
    "2. Finetune\n",
    "slowly finetune the model by freezing for 5 epochs and running backbonefinetuning callback\n",
    "find a good lr \n",
    "\"\"\""
   ]
  },
  {
   "source": [
    "### Overwrite config for experiment"
   ],
   "cell_type": "markdown",
   "metadata": {}
  },
  {
   "cell_type": "code",
   "execution_count": null,
   "metadata": {},
   "outputs": [],
   "source": []
  },
  {
   "source": [
    "### Import library / change some code"
   ],
   "cell_type": "markdown",
   "metadata": {}
  },
  {
   "cell_type": "code",
   "execution_count": null,
   "metadata": {},
   "outputs": [],
   "source": []
  }
 ]
}