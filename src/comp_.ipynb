{
 "cells": [
  {
   "cell_type": "markdown",
   "metadata": {},
   "source": [
    "# Competition Setup\n",
    "## 🎭 comp.py API \n",
    "### Information specific to the competition\n",
    "#### NAME:  comp name and it's dataset folder\n",
    "✔ Understand the comp objective and the data\n",
    "\n",
    "### Functions related to the competition \n",
    "\n",
    "#### score_df\n",
    "download a public notebook submission file to experiment with this\n",
    "\n",
    "#### build_sub\n",
    "look at code from public notebooks. you'll find this\n",
    "\n",
    "#### more competition specific functions and classes\n",
    "\n",
    "### ✔ TODO \n",
    "- Understand the comp objective and data\n",
    "- explore some eda notebooks  "
   ]
  },
  {
   "cell_type": "code",
   "execution_count": 3,
   "metadata": {},
   "outputs": [
    {
     "name": "stdout",
     "output_type": "stream",
     "text": [
      "The autoreload extension is already loaded. To reload it, use:\n",
      "  %reload_ext autoreload\n"
     ]
    }
   ],
   "source": [
    "# Autoreload extensions\n",
    "%load_ext autoreload\n",
    "%autoreload 2\n",
    "\n",
    "# Import the code \n",
    "import src \n",
    "\n",
    "# Display all \n",
    "from IPython.core.interactiveshell import InteractiveShell\n",
    "InteractiveShell.ast_node_interactivity = \"all\""
   ]
  },
  {
   "cell_type": "code",
   "execution_count": 2,
   "metadata": {},
   "outputs": [
    {
     "data": {
      "text/plain": [
       "['__builtins__',\n",
       " '__cached__',\n",
       " '__doc__',\n",
       " '__file__',\n",
       " '__loader__',\n",
       " '__name__',\n",
       " '__package__',\n",
       " '__path__',\n",
       " '__spec__']"
      ]
     },
     "execution_count": 2,
     "metadata": {},
     "output_type": "execute_result"
    }
   ],
   "source": [
    "dir(src)"
   ]
  },
  {
   "cell_type": "code",
   "execution_count": 19,
   "metadata": {},
   "outputs": [
    {
     "name": "stdout",
     "output_type": "stream",
     "text": [
      " Volume in drive C is Windows 10\n",
      " Volume Serial Number is 8CC8-4643\n",
      "\n",
      " Directory of c:\\Users\\sarth\\Desktop\\kaggle-v2\\src\\data\n",
      "\n",
      "15/06/2021  19:45    <DIR>          .\n",
      "15/06/2021  19:45    <DIR>          ..\n",
      "15/06/2021  17:29                 0 __init__.py\n",
      "15/06/2021  21:08    <DIR>          __pycache__\n",
      "15/06/2021  21:14    <DIR>          comp\n",
      "15/06/2021  21:14    <DIR>          external\n",
      "14/06/2021  18:34                 0 read_datasets.py\n",
      "15/06/2021  21:07             5,554 utils.py\n",
      "               3 File(s)          5,554 bytes\n",
      "               5 Dir(s)  53,131,288,576 bytes free\n"
     ]
    }
   ],
   "source": [
    "ls data"
   ]
  }
 ],
 "metadata": {
  "interpreter": {
   "hash": "0422f3b6ec0d37bdb40178519f21f1ab60049f7d1f257e760430ed9594ede4d9"
  },
  "kernelspec": {
   "display_name": "Python 3.8.10 64-bit ('kaggle': conda)",
   "name": "python3"
  },
  "language_info": {
   "codemirror_mode": {
    "name": "ipython",
    "version": 3
   },
   "file_extension": ".py",
   "mimetype": "text/x-python",
   "name": "python",
   "nbconvert_exporter": "python",
   "pygments_lexer": "ipython3",
   "version": "3.8.10"
  },
  "orig_nbformat": 4
 },
 "nbformat": 4,
 "nbformat_minor": 2
}